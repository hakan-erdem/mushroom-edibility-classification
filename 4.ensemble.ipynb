{
 "cells": [
  {
   "cell_type": "code",
   "execution_count": 1,
   "metadata": {},
   "outputs": [],
   "source": [
    "import matplotlib.pyplot as plt\n",
    "import seaborn as sns\n",
    "import torch\n",
    "import numpy as np"
   ]
  },
  {
   "cell_type": "markdown",
   "metadata": {},
   "source": [
    "### Trying ensemble for all of the configurations"
   ]
  },
  {
   "cell_type": "markdown",
   "metadata": {},
   "source": [
    "#### Baseline"
   ]
  },
  {
   "cell_type": "code",
   "execution_count": 10,
   "metadata": {},
   "outputs": [
    {
     "name": "stdout",
     "output_type": "stream",
     "text": [
      "Ensemble method accuracy for baseline: 79.661%\n"
     ]
    }
   ],
   "source": [
    "configuration = \"_baseline.pt\"\n",
    "\n",
    "model_names = [\"alexnet\", \"densenet161\", \"mobilenet_v3_large\", \"resnet50\", \"vgg19_bn\"]\n",
    "display_model_names = [\"AlexNet\", \"DenseNet\", \"MobileNetV3-Large\", \"ResNet-50\", \"VGG-19BN\"]\n",
    "\n",
    "file_names = [\"../model_results/\" + m + configuration for m in model_names]\n",
    "\n",
    "true_labels = []\n",
    "model_preds = []\n",
    "\n",
    "# gather the info\n",
    "for f in file_names:\n",
    "    model_result = torch.load(f, weights_only=True)\n",
    "    \n",
    "    true_labels = model_result[\"true_labels\"]\n",
    "    model_preds.append(model_result[\"model_preds\"])\n",
    "\n",
    "ensemble_preds = np.array(model_preds).mean(axis=0) > 0.5\n",
    "\n",
    "res = sum(true_labels == ensemble_preds) / len(true_labels) * 100\n",
    "\n",
    "print(f\"Ensemble method accuracy for baseline: {res[0]:.3f}%\")"
   ]
  },
  {
   "cell_type": "markdown",
   "metadata": {},
   "source": [
    "#### Cropped"
   ]
  },
  {
   "cell_type": "code",
   "execution_count": 11,
   "metadata": {},
   "outputs": [
    {
     "name": "stdout",
     "output_type": "stream",
     "text": [
      "Ensemble method accuracy for crop: 81.622%\n"
     ]
    }
   ],
   "source": [
    "configuration = \"_crop.pt\"\n",
    "\n",
    "model_names = [\"alexnet\", \"densenet161\", \"mobilenet_v3_large\", \"resnet50\", \"vgg19_bn\"]\n",
    "display_model_names = [\"AlexNet\", \"DenseNet\", \"MobileNetV3-Large\", \"ResNet-50\", \"VGG-19BN\"]\n",
    "\n",
    "file_names = [\"../model_results/\" + m + configuration for m in model_names]\n",
    "\n",
    "true_labels = []\n",
    "model_preds = []\n",
    "\n",
    "# gather the info\n",
    "for f in file_names:\n",
    "    model_result = torch.load(f, weights_only=True)\n",
    "    \n",
    "    true_labels = model_result[\"true_labels\"]\n",
    "    model_preds.append(model_result[\"model_preds\"])\n",
    "\n",
    "ensemble_preds = np.array(model_preds).mean(axis=0) > 0.5\n",
    "\n",
    "res = sum(true_labels == ensemble_preds) / len(true_labels) * 100\n",
    "\n",
    "print(f\"Ensemble method accuracy for crop: {res[0]:.3f}%\")"
   ]
  },
  {
   "cell_type": "markdown",
   "metadata": {},
   "source": [
    "#### Final"
   ]
  },
  {
   "cell_type": "code",
   "execution_count": 12,
   "metadata": {},
   "outputs": [
    {
     "name": "stdout",
     "output_type": "stream",
     "text": [
      "Ensemble method accuracy for final: 88.713%\n"
     ]
    }
   ],
   "source": [
    "configuration = \"_final.pt\"\n",
    "\n",
    "model_names = [\"alexnet\", \"densenet161\", \"mobilenet_v3_large\", \"resnet50\", \"vgg19_bn\"]\n",
    "display_model_names = [\"AlexNet\", \"DenseNet\", \"MobileNetV3-Large\", \"ResNet-50\", \"VGG-19BN\"]\n",
    "\n",
    "file_names = [\"../model_results/\" + m + configuration for m in model_names]\n",
    "\n",
    "true_labels = []\n",
    "model_preds = []\n",
    "\n",
    "# gather the info\n",
    "for f in file_names:\n",
    "    model_result = torch.load(f, weights_only=True)\n",
    "    \n",
    "    true_labels = model_result[\"true_labels\"]\n",
    "    model_preds.append(model_result[\"model_preds\"])\n",
    "\n",
    "ensemble_preds = np.array(model_preds).mean(axis=0) > 0.5\n",
    "\n",
    "res = sum(true_labels == ensemble_preds) / len(true_labels) * 100\n",
    "\n",
    "print(f\"Ensemble method accuracy for final: {res[0]:.3f}%\")"
   ]
  },
  {
   "cell_type": "markdown",
   "metadata": {},
   "source": [
    "##### further analysis on ensemble method for final configuration"
   ]
  },
  {
   "cell_type": "code",
   "execution_count": 14,
   "metadata": {},
   "outputs": [
    {
     "name": "stdout",
     "output_type": "stream",
     "text": [
      "              precision    recall  f1-score   support\n",
      "\n",
      "     No Mask       0.84      0.92      0.88       195\n",
      "        Mask       0.93      0.86      0.89       248\n",
      "\n",
      "    accuracy                           0.89       443\n",
      "   macro avg       0.89      0.89      0.89       443\n",
      "weighted avg       0.89      0.89      0.89       443\n",
      "\n"
     ]
    }
   ],
   "source": [
    "# show classification report\n",
    "from sklearn.metrics import classification_report\n",
    "print(classification_report(true_labels, ensemble_preds, target_names=[\"No Mask\", \"Mask\"]))"
   ]
  },
  {
   "cell_type": "code",
   "execution_count": 13,
   "metadata": {},
   "outputs": [
    {
     "name": "stdout",
     "output_type": "stream",
     "text": [
      "              precision    recall  f1-score   support\n",
      "\n",
      "     No Mask       0.89      0.69      0.78       195\n",
      "        Mask       0.79      0.93      0.86       248\n",
      "\n",
      "    accuracy                           0.83       443\n",
      "   macro avg       0.84      0.81      0.82       443\n",
      "weighted avg       0.84      0.83      0.82       443\n",
      "\n"
     ]
    }
   ],
   "source": [
    "# show classification report for resnet50_final\n",
    "from sklearn.metrics import classification_report\n",
    "model_result = torch.load(\"../model_results/vgg19_bn_final_res.pt\", weights_only=True)\n",
    "print(classification_report(model_result[\"true_labels\"], model_result[\"model_preds\"], target_names=[\"No Mask\", \"Mask\"]))\n",
    "# show classification report for densenet161_final"
   ]
  },
  {
   "cell_type": "code",
   "execution_count": 15,
   "metadata": {},
   "outputs": [
    {
     "data": {
      "text/plain": [
       "Text(0.5, 1.0, 'Confusion Matrix')"
      ]
     },
     "execution_count": 15,
     "metadata": {},
     "output_type": "execute_result"
    },
    {
     "data": {
      "image/png": "[encoded data removed]",
      "text/plain": [
       "<Figure size 800x600 with 2 Axes>"
      ]
     },
     "metadata": {},
     "output_type": "display_data"
    }
   ],
   "source": [
    "# create the confusion matrix\n",
    "from sklearn.metrics import confusion_matrix\n",
    "import seaborn as sns\n",
    "cm = confusion_matrix(true_labels, ensemble_preds)\n",
    "plt.figure(figsize=(8, 6), dpi=100)\n",
    "sns.heatmap(cm, annot=True, fmt='d', cmap='Blues', xticklabels=[\"No\", \"Yes\"], yticklabels=[\"No\", \"Yes\"])\n",
    "plt.xlabel('Predicted', fontsize=14)\n",
    "plt.ylabel('True', fontsize=14)\n",
    "plt.title('Confusion Matrix', fontsize=16)"
   ]
  }
 ],
 "metadata": {
  "kernelspec": {
   "display_name": "pytorch_env",
   "language": "python",
   "name": "python3"
  },
  "language_info": {
   "codemirror_mode": {
    "name": "ipython",
    "version": 3
   },
   "file_extension": ".py",
   "mimetype": "text/x-python",
   "name": "python",
   "nbconvert_exporter": "python",
   "pygments_lexer": "ipython3",
   "version": "3.12.8"
  }
 },
 "nbformat": 4,
 "nbformat_minor": 2
}
